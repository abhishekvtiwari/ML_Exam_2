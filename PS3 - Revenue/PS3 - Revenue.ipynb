{
 "cells": [
  {
   "cell_type": "markdown",
   "metadata": {},
   "source": [
    "## Importing data and reading data"
   ]
  },
  {
   "cell_type": "code",
   "execution_count": 1,
   "metadata": {
    "_cell_guid": "b1076dfc-b9ad-4769-8c92-a6c4dae69d19",
    "_kg_hide-input": true,
    "_uuid": "8f2839f25d086af736a60e9eeb907d3b93b6e0e5",
    "execution": {
     "iopub.execute_input": "2021-02-12T18:03:53.444534Z",
     "iopub.status.busy": "2021-02-12T18:03:53.443460Z",
     "iopub.status.idle": "2021-02-12T18:03:55.179051Z",
     "shell.execute_reply": "2021-02-12T18:03:55.177937Z"
    },
    "papermill": {
     "duration": 1.762311,
     "end_time": "2021-02-12T18:03:55.179179",
     "exception": false,
     "start_time": "2021-02-12T18:03:53.416868",
     "status": "completed"
    },
    "tags": []
   },
   "outputs": [],
   "source": [
    "import numpy as np\n",
    "import pandas as pd\n",
    "import matplotlib.pyplot as plt\n",
    "import seaborn as sns\n",
    "%matplotlib inline\n",
    "import warnings\n",
    "warnings.filterwarnings('ignore')\n",
    "\n",
    "# read training data\n",
    "data = pd.read_csv('Shopping_Revenue.csv')"
   ]
  },
  {
   "cell_type": "code",
   "execution_count": 2,
   "metadata": {
    "_kg_hide-input": true,
    "execution": {
     "iopub.execute_input": "2021-02-12T18:03:55.233862Z",
     "iopub.status.busy": "2021-02-12T18:03:55.233179Z",
     "iopub.status.idle": "2021-02-12T18:03:55.236150Z",
     "shell.execute_reply": "2021-02-12T18:03:55.236697Z"
    },
    "papermill": {
     "duration": 0.032799,
     "end_time": "2021-02-12T18:03:55.236857",
     "exception": false,
     "start_time": "2021-02-12T18:03:55.204058",
     "status": "completed"
    },
    "tags": []
   },
   "outputs": [
    {
     "name": "stdout",
     "output_type": "stream",
     "text": [
      "Shape of training data: (137, 43)\n",
      "Features available: Index(['Id', 'Open Date', 'City', 'City Group', 'Type', 'P1', 'P2', 'P3', 'P4',\n",
      "       'P5', 'P6', 'P7', 'P8', 'P9', 'P10', 'P11', 'P12', 'P13', 'P14', 'P15',\n",
      "       'P16', 'P17', 'P18', 'P19', 'P20', 'P21', 'P22', 'P23', 'P24', 'P25',\n",
      "       'P26', 'P27', 'P28', 'P29', 'P30', 'P31', 'P32', 'P33', 'P34', 'P35',\n",
      "       'P36', 'P37', 'revenue'],\n",
      "      dtype='object')\n"
     ]
    }
   ],
   "source": [
    "print(f\"Shape of training data: {data.shape}\\nFeatures available: {data.columns}\")"
   ]
  },
  {
   "cell_type": "code",
   "execution_count": 3,
   "metadata": {
    "execution": {
     "iopub.execute_input": "2021-02-12T18:03:55.308856Z",
     "iopub.status.busy": "2021-02-12T18:03:55.303270Z",
     "iopub.status.idle": "2021-02-12T18:03:55.332106Z",
     "shell.execute_reply": "2021-02-12T18:03:55.331489Z"
    },
    "papermill": {
     "duration": 0.071676,
     "end_time": "2021-02-12T18:03:55.332235",
     "exception": false,
     "start_time": "2021-02-12T18:03:55.260559",
     "status": "completed"
    },
    "tags": []
   },
   "outputs": [
    {
     "data": {
      "text/html": [
       "<div>\n",
       "<style scoped>\n",
       "    .dataframe tbody tr th:only-of-type {\n",
       "        vertical-align: middle;\n",
       "    }\n",
       "\n",
       "    .dataframe tbody tr th {\n",
       "        vertical-align: top;\n",
       "    }\n",
       "\n",
       "    .dataframe thead th {\n",
       "        text-align: right;\n",
       "    }\n",
       "</style>\n",
       "<table border=\"1\" class=\"dataframe\">\n",
       "  <thead>\n",
       "    <tr style=\"text-align: right;\">\n",
       "      <th></th>\n",
       "      <th>Id</th>\n",
       "      <th>Open Date</th>\n",
       "      <th>City</th>\n",
       "      <th>City Group</th>\n",
       "      <th>Type</th>\n",
       "      <th>P1</th>\n",
       "      <th>P2</th>\n",
       "      <th>P3</th>\n",
       "      <th>P4</th>\n",
       "      <th>P5</th>\n",
       "      <th>...</th>\n",
       "      <th>P29</th>\n",
       "      <th>P30</th>\n",
       "      <th>P31</th>\n",
       "      <th>P32</th>\n",
       "      <th>P33</th>\n",
       "      <th>P34</th>\n",
       "      <th>P35</th>\n",
       "      <th>P36</th>\n",
       "      <th>P37</th>\n",
       "      <th>revenue</th>\n",
       "    </tr>\n",
       "  </thead>\n",
       "  <tbody>\n",
       "    <tr>\n",
       "      <th>0</th>\n",
       "      <td>0</td>\n",
       "      <td>7/17/1999</td>\n",
       "      <td>İstanbul</td>\n",
       "      <td>Big Cities</td>\n",
       "      <td>IL</td>\n",
       "      <td>4</td>\n",
       "      <td>5.0</td>\n",
       "      <td>4.0</td>\n",
       "      <td>4.0</td>\n",
       "      <td>2</td>\n",
       "      <td>...</td>\n",
       "      <td>3.0</td>\n",
       "      <td>5</td>\n",
       "      <td>3</td>\n",
       "      <td>4</td>\n",
       "      <td>5</td>\n",
       "      <td>5</td>\n",
       "      <td>4</td>\n",
       "      <td>3</td>\n",
       "      <td>4</td>\n",
       "      <td>5653753</td>\n",
       "    </tr>\n",
       "    <tr>\n",
       "      <th>1</th>\n",
       "      <td>1</td>\n",
       "      <td>2/14/2008</td>\n",
       "      <td>Ankara</td>\n",
       "      <td>Big Cities</td>\n",
       "      <td>FC</td>\n",
       "      <td>4</td>\n",
       "      <td>5.0</td>\n",
       "      <td>4.0</td>\n",
       "      <td>4.0</td>\n",
       "      <td>1</td>\n",
       "      <td>...</td>\n",
       "      <td>3.0</td>\n",
       "      <td>0</td>\n",
       "      <td>0</td>\n",
       "      <td>0</td>\n",
       "      <td>0</td>\n",
       "      <td>0</td>\n",
       "      <td>0</td>\n",
       "      <td>0</td>\n",
       "      <td>0</td>\n",
       "      <td>6923131</td>\n",
       "    </tr>\n",
       "    <tr>\n",
       "      <th>2</th>\n",
       "      <td>2</td>\n",
       "      <td>3/9/2013</td>\n",
       "      <td>Diyarbakır</td>\n",
       "      <td>Other</td>\n",
       "      <td>IL</td>\n",
       "      <td>2</td>\n",
       "      <td>4.0</td>\n",
       "      <td>2.0</td>\n",
       "      <td>5.0</td>\n",
       "      <td>2</td>\n",
       "      <td>...</td>\n",
       "      <td>3.0</td>\n",
       "      <td>0</td>\n",
       "      <td>0</td>\n",
       "      <td>0</td>\n",
       "      <td>0</td>\n",
       "      <td>0</td>\n",
       "      <td>0</td>\n",
       "      <td>0</td>\n",
       "      <td>0</td>\n",
       "      <td>2055379</td>\n",
       "    </tr>\n",
       "    <tr>\n",
       "      <th>3</th>\n",
       "      <td>3</td>\n",
       "      <td>2/2/2012</td>\n",
       "      <td>Tokat</td>\n",
       "      <td>Other</td>\n",
       "      <td>IL</td>\n",
       "      <td>6</td>\n",
       "      <td>4.5</td>\n",
       "      <td>6.0</td>\n",
       "      <td>6.0</td>\n",
       "      <td>4</td>\n",
       "      <td>...</td>\n",
       "      <td>7.5</td>\n",
       "      <td>25</td>\n",
       "      <td>12</td>\n",
       "      <td>10</td>\n",
       "      <td>6</td>\n",
       "      <td>18</td>\n",
       "      <td>12</td>\n",
       "      <td>12</td>\n",
       "      <td>6</td>\n",
       "      <td>2675511</td>\n",
       "    </tr>\n",
       "    <tr>\n",
       "      <th>4</th>\n",
       "      <td>4</td>\n",
       "      <td>5/9/2009</td>\n",
       "      <td>Gaziantep</td>\n",
       "      <td>Other</td>\n",
       "      <td>IL</td>\n",
       "      <td>3</td>\n",
       "      <td>4.0</td>\n",
       "      <td>3.0</td>\n",
       "      <td>4.0</td>\n",
       "      <td>2</td>\n",
       "      <td>...</td>\n",
       "      <td>3.0</td>\n",
       "      <td>5</td>\n",
       "      <td>1</td>\n",
       "      <td>3</td>\n",
       "      <td>2</td>\n",
       "      <td>3</td>\n",
       "      <td>4</td>\n",
       "      <td>3</td>\n",
       "      <td>3</td>\n",
       "      <td>4316715</td>\n",
       "    </tr>\n",
       "  </tbody>\n",
       "</table>\n",
       "<p>5 rows × 43 columns</p>\n",
       "</div>"
      ],
      "text/plain": [
       "   Id  Open Date        City  City Group Type  P1   P2   P3   P4  P5  ...  \\\n",
       "0   0  7/17/1999    İstanbul  Big Cities   IL   4  5.0  4.0  4.0   2  ...   \n",
       "1   1  2/14/2008      Ankara  Big Cities   FC   4  5.0  4.0  4.0   1  ...   \n",
       "2   2   3/9/2013  Diyarbakır       Other   IL   2  4.0  2.0  5.0   2  ...   \n",
       "3   3   2/2/2012       Tokat       Other   IL   6  4.5  6.0  6.0   4  ...   \n",
       "4   4   5/9/2009   Gaziantep       Other   IL   3  4.0  3.0  4.0   2  ...   \n",
       "\n",
       "   P29  P30  P31  P32  P33  P34  P35  P36  P37  revenue  \n",
       "0  3.0    5    3    4    5    5    4    3    4  5653753  \n",
       "1  3.0    0    0    0    0    0    0    0    0  6923131  \n",
       "2  3.0    0    0    0    0    0    0    0    0  2055379  \n",
       "3  7.5   25   12   10    6   18   12   12    6  2675511  \n",
       "4  3.0    5    1    3    2    3    4    3    3  4316715  \n",
       "\n",
       "[5 rows x 43 columns]"
      ]
     },
     "execution_count": 3,
     "metadata": {},
     "output_type": "execute_result"
    }
   ],
   "source": [
    "data.head()"
   ]
  },
  {
   "cell_type": "code",
   "execution_count": 4,
   "metadata": {
    "execution": {
     "iopub.execute_input": "2021-02-12T18:03:55.389200Z",
     "iopub.status.busy": "2021-02-12T18:03:55.388526Z",
     "iopub.status.idle": "2021-02-12T18:03:55.392726Z",
     "shell.execute_reply": "2021-02-12T18:03:55.392033Z"
    },
    "papermill": {
     "duration": 0.035646,
     "end_time": "2021-02-12T18:03:55.392861",
     "exception": false,
     "start_time": "2021-02-12T18:03:55.357215",
     "status": "completed"
    },
    "tags": []
   },
   "outputs": [
    {
     "data": {
      "text/plain": [
       "Id            0\n",
       "Open Date     0\n",
       "City          0\n",
       "City Group    0\n",
       "Type          0\n",
       "P1            0\n",
       "P2            0\n",
       "P3            0\n",
       "P4            0\n",
       "P5            0\n",
       "P6            4\n",
       "P7            4\n",
       "P8            0\n",
       "P9            0\n",
       "P10           0\n",
       "P11           0\n",
       "P12           0\n",
       "P13           0\n",
       "P14           0\n",
       "P15           0\n",
       "P16           0\n",
       "P17           0\n",
       "P18           0\n",
       "P19           0\n",
       "P20           0\n",
       "P21           0\n",
       "P22           0\n",
       "P23           0\n",
       "P24           0\n",
       "P25           0\n",
       "P26           0\n",
       "P27           0\n",
       "P28           0\n",
       "P29           0\n",
       "P30           0\n",
       "P31           0\n",
       "P32           0\n",
       "P33           0\n",
       "P34           0\n",
       "P35           0\n",
       "P36           0\n",
       "P37           0\n",
       "revenue       0\n",
       "dtype: int64"
      ]
     },
     "execution_count": 4,
     "metadata": {},
     "output_type": "execute_result"
    }
   ],
   "source": [
    "data.isnull().sum()"
   ]
  },
  {
   "cell_type": "code",
   "execution_count": 5,
   "metadata": {},
   "outputs": [],
   "source": [
    "data.fillna(0, inplace=True)"
   ]
  },
  {
   "cell_type": "code",
   "execution_count": 6,
   "metadata": {},
   "outputs": [
    {
     "data": {
      "text/plain": [
       "False"
      ]
     },
     "execution_count": 6,
     "metadata": {},
     "output_type": "execute_result"
    }
   ],
   "source": [
    "data.isnull().sum().any()"
   ]
  },
  {
   "cell_type": "markdown",
   "metadata": {
    "papermill": {
     "duration": 0.024505,
     "end_time": "2021-02-12T18:03:55.442238",
     "exception": false,
     "start_time": "2021-02-12T18:03:55.417733",
     "status": "completed"
    },
    "tags": []
   },
   "source": [
    "* Missing Value has been replaced by 0.\n",
    "* Last column 'revenue' is our target column.\n",
    "* Features from P1 to P37 are all numerical features about which we know nothing specifically. So, I will directly feed them into my model.\n",
    "* Id column is redundant, I will drop it. To avoid it we can choose it as index column while reading data.i.e., using pd.read_csv('*filepath*',index_col=*col_name_or_positional_no*)\n",
    "* In feature Open date, I will focus on month and year and drop date values.\n",
    "* City, City Group and Type are categorical columns. To feed them to ML model they need to be converted into machine-readable form which is numerical form."
   ]
  },
  {
   "cell_type": "code",
   "execution_count": 7,
   "metadata": {
    "execution": {
     "iopub.execute_input": "2021-02-12T18:03:55.562606Z",
     "iopub.status.busy": "2021-02-12T18:03:55.561912Z",
     "iopub.status.idle": "2021-02-12T18:03:55.760512Z",
     "shell.execute_reply": "2021-02-12T18:03:55.759908Z"
    },
    "papermill": {
     "duration": 0.230036,
     "end_time": "2021-02-12T18:03:55.760628",
     "exception": false,
     "start_time": "2021-02-12T18:03:55.530592",
     "status": "completed"
    },
    "tags": []
   },
   "outputs": [
    {
     "data": {
      "image/png": "[encoded data removed]",
      "text/plain": [
       "<Figure size 432x288 with 1 Axes>"
      ]
     },
     "metadata": {
      "needs_background": "light"
     },
     "output_type": "display_data"
    }
   ],
   "source": [
    "sns.distplot(data['revenue'],hist=False)\n",
    "plt.title('Distribution of Target variable')\n",
    "sns.despine(); #to remove top and right spines"
   ]
  },
  {
   "cell_type": "markdown",
   "metadata": {
    "papermill": {
     "duration": 0.026651,
     "end_time": "2021-02-12T18:03:55.813903",
     "exception": false,
     "start_time": "2021-02-12T18:03:55.787252",
     "status": "completed"
    },
    "tags": []
   },
   "source": [
    "If we remove outliers our target variable will follow a normal distribution.(with a little bit skew)"
   ]
  },
  {
   "cell_type": "code",
   "execution_count": 8,
   "metadata": {
    "execution": {
     "iopub.execute_input": "2021-02-12T18:03:55.883189Z",
     "iopub.status.busy": "2021-02-12T18:03:55.882250Z",
     "iopub.status.idle": "2021-02-12T18:03:55.911009Z",
     "shell.execute_reply": "2021-02-12T18:03:55.911857Z"
    },
    "papermill": {
     "duration": 0.070361,
     "end_time": "2021-02-12T18:03:55.912075",
     "exception": false,
     "start_time": "2021-02-12T18:03:55.841714",
     "status": "completed"
    },
    "tags": []
   },
   "outputs": [],
   "source": [
    "data = data[data['revenue']<8e+06].copy()"
   ]
  },
  {
   "cell_type": "code",
   "execution_count": 9,
   "metadata": {
    "execution": {
     "iopub.execute_input": "2021-02-12T18:03:55.997457Z",
     "iopub.status.busy": "2021-02-12T18:03:55.996318Z",
     "iopub.status.idle": "2021-02-12T18:03:56.269960Z",
     "shell.execute_reply": "2021-02-12T18:03:56.270658Z"
    },
    "papermill": {
     "duration": 0.316383,
     "end_time": "2021-02-12T18:03:56.270805",
     "exception": false,
     "start_time": "2021-02-12T18:03:55.954422",
     "status": "completed"
    },
    "tags": []
   },
   "outputs": [
    {
     "data": {
      "text/plain": [
       "<AxesSubplot:xlabel='Type', ylabel='count'>"
      ]
     },
     "execution_count": 9,
     "metadata": {},
     "output_type": "execute_result"
    },
    {
     "data": {
      "image/png": "[encoded data removed]",
      "text/plain": [
       "<Figure size 432x288 with 1 Axes>"
      ]
     },
     "metadata": {},
     "output_type": "display_data"
    }
   ],
   "source": [
    "sns.set_style('darkgrid')\n",
    "sns.countplot(data[\"Type\"])"
   ]
  },
  {
   "cell_type": "code",
   "execution_count": 10,
   "metadata": {
    "execution": {
     "iopub.execute_input": "2021-02-12T18:03:56.382871Z",
     "iopub.status.busy": "2021-02-12T18:03:56.381910Z",
     "iopub.status.idle": "2021-02-12T18:03:57.055102Z",
     "shell.execute_reply": "2021-02-12T18:03:57.055673Z"
    },
    "papermill": {
     "duration": 0.703829,
     "end_time": "2021-02-12T18:03:57.055841",
     "exception": false,
     "start_time": "2021-02-12T18:03:56.352012",
     "status": "completed"
    },
    "tags": []
   },
   "outputs": [],
   "source": [
    "data['Open Date'] = pd.to_datetime(data['Open Date'])\n",
    "data['launch_Month'] = [x.month for x in data['Open Date']]\n",
    "data['launch_year'] = [x.year for x in data['Open Date']]\n",
    "data.drop(['Id','Open Date'],axis=1,inplace=True)"
   ]
  },
  {
   "cell_type": "code",
   "execution_count": 11,
   "metadata": {
    "execution": {
     "iopub.execute_input": "2021-02-12T18:03:57.114655Z",
     "iopub.status.busy": "2021-02-12T18:03:57.113618Z",
     "iopub.status.idle": "2021-02-12T18:03:57.365869Z",
     "shell.execute_reply": "2021-02-12T18:03:57.366528Z"
    },
    "papermill": {
     "duration": 0.283223,
     "end_time": "2021-02-12T18:03:57.366672",
     "exception": false,
     "start_time": "2021-02-12T18:03:57.083449",
     "status": "completed"
    },
    "tags": []
   },
   "outputs": [
    {
     "data": {
      "image/png": "[encoded data removed]",
      "text/plain": [
       "<Figure size 432x288 with 1 Axes>"
      ]
     },
     "metadata": {},
     "output_type": "display_data"
    }
   ],
   "source": [
    "sns.countplot(data['launch_Month'])\n",
    "plt.title('Month-wise no of launches');"
   ]
  },
  {
   "cell_type": "markdown",
   "metadata": {
    "papermill": {
     "duration": 0.028302,
     "end_time": "2021-02-12T18:03:57.423265",
     "exception": false,
     "start_time": "2021-02-12T18:03:57.394963",
     "status": "completed"
    },
    "tags": []
   },
   "source": [
    "Second half of the year seems to witness more restaurant launches."
   ]
  },
  {
   "cell_type": "code",
   "execution_count": 12,
   "metadata": {
    "execution": {
     "iopub.execute_input": "2021-02-12T18:03:57.483939Z",
     "iopub.status.busy": "2021-02-12T18:03:57.482955Z",
     "iopub.status.idle": "2021-02-12T18:03:57.870224Z",
     "shell.execute_reply": "2021-02-12T18:03:57.870800Z"
    },
    "papermill": {
     "duration": 0.419422,
     "end_time": "2021-02-12T18:03:57.870976",
     "exception": false,
     "start_time": "2021-02-12T18:03:57.451554",
     "status": "completed"
    },
    "tags": []
   },
   "outputs": [
    {
     "data": {
      "image/png": "[encoded data removed]",
      "text/plain": [
       "<Figure size 1080x432 with 1 Axes>"
      ]
     },
     "metadata": {},
     "output_type": "display_data"
    }
   ],
   "source": [
    "plt.figure(figsize=(15,6))\n",
    "sns.countplot(data['launch_year'],order=[1996,1997,1998,1999,2000,2002,2004,2005,2006,\n",
    "                                       2007,2008,2009,2010,2011,2012,2013,2014])\n",
    "plt.title('Year-wise no of launches',fontsize=15);"
   ]
  },
  {
   "cell_type": "markdown",
   "metadata": {
    "papermill": {
     "duration": 0.029387,
     "end_time": "2021-02-12T18:03:57.989629",
     "exception": false,
     "start_time": "2021-02-12T18:03:57.960242",
     "status": "completed"
    },
    "tags": []
   },
   "source": [
    "## Preprocessing the data"
   ]
  },
  {
   "cell_type": "code",
   "execution_count": 13,
   "metadata": {
    "execution": {
     "iopub.execute_input": "2021-02-12T18:03:58.055593Z",
     "iopub.status.busy": "2021-02-12T18:03:58.054427Z",
     "iopub.status.idle": "2021-02-12T18:03:58.090112Z",
     "shell.execute_reply": "2021-02-12T18:03:58.089572Z"
    },
    "papermill": {
     "duration": 0.069768,
     "end_time": "2021-02-12T18:03:58.090249",
     "exception": false,
     "start_time": "2021-02-12T18:03:58.020481",
     "status": "completed"
    },
    "tags": []
   },
   "outputs": [
    {
     "data": {
      "text/plain": [
       "FC    69\n",
       "IL    58\n",
       "DT     1\n",
       "Name: Type, dtype: int64"
      ]
     },
     "execution_count": 13,
     "metadata": {},
     "output_type": "execute_result"
    }
   ],
   "source": [
    "data['Type'].value_counts()"
   ]
  },
  {
   "cell_type": "code",
   "execution_count": 14,
   "metadata": {
    "execution": {
     "iopub.execute_input": "2021-02-12T18:03:58.186769Z",
     "iopub.status.busy": "2021-02-12T18:03:58.185733Z",
     "iopub.status.idle": "2021-02-12T18:03:58.190646Z",
     "shell.execute_reply": "2021-02-12T18:03:58.190031Z"
    },
    "papermill": {
     "duration": 0.070379,
     "end_time": "2021-02-12T18:03:58.190767",
     "exception": false,
     "start_time": "2021-02-12T18:03:58.120388",
     "status": "completed"
    },
    "tags": []
   },
   "outputs": [
    {
     "data": {
      "text/plain": [
       "Big Cities    69\n",
       "Other         59\n",
       "Name: City Group, dtype: int64"
      ]
     },
     "execution_count": 14,
     "metadata": {},
     "output_type": "execute_result"
    }
   ],
   "source": [
    "data['City Group'].value_counts()"
   ]
  },
  {
   "cell_type": "code",
   "execution_count": 15,
   "metadata": {
    "execution": {
     "iopub.execute_input": "2021-02-12T18:03:58.284186Z",
     "iopub.status.busy": "2021-02-12T18:03:58.272985Z",
     "iopub.status.idle": "2021-02-12T18:03:58.292451Z",
     "shell.execute_reply": "2021-02-12T18:03:58.293010Z"
    },
    "papermill": {
     "duration": 0.071507,
     "end_time": "2021-02-12T18:03:58.293163",
     "exception": false,
     "start_time": "2021-02-12T18:03:58.221656",
     "status": "completed"
    },
    "tags": []
   },
   "outputs": [
    {
     "data": {
      "text/plain": [
       "İstanbul          43\n",
       "Ankara            19\n",
       "İzmir              7\n",
       "Bursa              5\n",
       "Samsun             5\n",
       "Sakarya            4\n",
       "Antalya            4\n",
       "Adana              3\n",
       "Eskişehir          3\n",
       "Kayseri            3\n",
       "Tekirdağ           3\n",
       "Diyarbakır         3\n",
       "Konya              2\n",
       "Aydın              2\n",
       "Muğla              2\n",
       "Trabzon            2\n",
       "Osmaniye           1\n",
       "Şanlıurfa          1\n",
       "Denizli            1\n",
       "Kastamonu          1\n",
       "Tokat              1\n",
       "Elazığ             1\n",
       "Kütahya            1\n",
       "Karabük            1\n",
       "Edirne             1\n",
       "Isparta            1\n",
       "Kocaeli            1\n",
       "Bolu               1\n",
       "Amasya             1\n",
       "Balıkesir          1\n",
       "Afyonkarahisar     1\n",
       "Gaziantep          1\n",
       "Kırklareli         1\n",
       "Uşak               1\n",
       "Name: City, dtype: int64"
      ]
     },
     "execution_count": 15,
     "metadata": {},
     "output_type": "execute_result"
    }
   ],
   "source": [
    "data['City'].value_counts()"
   ]
  },
  {
   "cell_type": "code",
   "execution_count": 16,
   "metadata": {},
   "outputs": [
    {
     "data": {
      "text/plain": [
       "34"
      ]
     },
     "execution_count": 16,
     "metadata": {},
     "output_type": "execute_result"
    }
   ],
   "source": [
    "len(data['City'].unique())"
   ]
  },
  {
   "cell_type": "markdown",
   "metadata": {
    "papermill": {
     "duration": 0.030984,
     "end_time": "2021-02-12T18:03:58.355559",
     "exception": false,
     "start_time": "2021-02-12T18:03:58.324575",
     "status": "completed"
    },
    "tags": []
   },
   "source": [
    "**Oops!** There are 34 different City values. I can create dummy variables to handle this feature but it will lead to so many columns. A good approach will be to reduce categories in this column. For example, instead of cities categories can be different zones or tier-1,tier-2 and so on.\n",
    "Here, I am dropping this column as there is not much information about which countries are involved. Also, the feature City Group covers effect of this feature as well."
   ]
  },
  {
   "cell_type": "code",
   "execution_count": 17,
   "metadata": {
    "execution": {
     "iopub.execute_input": "2021-02-12T18:03:58.434602Z",
     "iopub.status.busy": "2021-02-12T18:03:58.423717Z",
     "iopub.status.idle": "2021-02-12T18:03:58.441026Z",
     "shell.execute_reply": "2021-02-12T18:03:58.440284Z"
    },
    "papermill": {
     "duration": 0.05458,
     "end_time": "2021-02-12T18:03:58.441149",
     "exception": false,
     "start_time": "2021-02-12T18:03:58.386569",
     "status": "completed"
    },
    "tags": []
   },
   "outputs": [],
   "source": [
    "data.drop('City',axis=1,inplace=True)"
   ]
  },
  {
   "cell_type": "code",
   "execution_count": 18,
   "metadata": {
    "execution": {
     "iopub.execute_input": "2021-02-12T18:03:58.527839Z",
     "iopub.status.busy": "2021-02-12T18:03:58.526427Z",
     "iopub.status.idle": "2021-02-12T18:03:58.727589Z",
     "shell.execute_reply": "2021-02-12T18:03:58.728124Z"
    },
    "papermill": {
     "duration": 0.255724,
     "end_time": "2021-02-12T18:03:58.728296",
     "exception": false,
     "start_time": "2021-02-12T18:03:58.472572",
     "status": "completed"
    },
    "tags": []
   },
   "outputs": [],
   "source": [
    "#converting other categorical columns\n",
    "data['Type'] = data['Type'].map({'FC':0,'IL':1,'DT':2})\n",
    "\n",
    "from sklearn.preprocessing import OrdinalEncoder\n",
    "encoder = OrdinalEncoder()\n",
    "data['City Group'] = encoder.fit_transform(np.array(data['City Group']).reshape(-1,1))\n",
    "data['City Group'] = data['City Group'].apply(int)"
   ]
  },
  {
   "cell_type": "code",
   "execution_count": 19,
   "metadata": {
    "execution": {
     "iopub.execute_input": "2021-02-12T18:03:58.797780Z",
     "iopub.status.busy": "2021-02-12T18:03:58.797089Z",
     "iopub.status.idle": "2021-02-12T18:03:58.840988Z",
     "shell.execute_reply": "2021-02-12T18:03:58.841522Z"
    },
    "papermill": {
     "duration": 0.081696,
     "end_time": "2021-02-12T18:03:58.841685",
     "exception": false,
     "start_time": "2021-02-12T18:03:58.759989",
     "status": "completed"
    },
    "scrolled": true,
    "tags": []
   },
   "outputs": [
    {
     "data": {
      "text/plain": [
       "launch_Month\n",
       "1     4.521243e+06\n",
       "2     4.189109e+06\n",
       "3     3.477052e+06\n",
       "4     3.749950e+06\n",
       "5     3.657800e+06\n",
       "6     3.776214e+06\n",
       "7     3.458596e+06\n",
       "8     3.883020e+06\n",
       "9     4.526998e+06\n",
       "10    4.056980e+06\n",
       "11    4.403934e+06\n",
       "12    3.720047e+06\n",
       "Name: revenue, dtype: float64"
      ]
     },
     "execution_count": 19,
     "metadata": {},
     "output_type": "execute_result"
    }
   ],
   "source": [
    "data.dropna().groupby('launch_Month')['revenue'].mean()"
   ]
  },
  {
   "cell_type": "markdown",
   "metadata": {
    "papermill": {
     "duration": 0.032372,
     "end_time": "2021-02-12T18:03:58.906981",
     "exception": false,
     "start_time": "2021-02-12T18:03:58.874609",
     "status": "completed"
    },
    "tags": []
   },
   "source": [
    "Revenue is a bit higher in months of Jan, Sept and  Nov."
   ]
  },
  {
   "cell_type": "code",
   "execution_count": 20,
   "metadata": {
    "execution": {
     "iopub.execute_input": "2021-02-12T18:03:58.980313Z",
     "iopub.status.busy": "2021-02-12T18:03:58.979214Z",
     "iopub.status.idle": "2021-02-12T18:03:58.988376Z",
     "shell.execute_reply": "2021-02-12T18:03:58.987769Z"
    },
    "papermill": {
     "duration": 0.047408,
     "end_time": "2021-02-12T18:03:58.988489",
     "exception": false,
     "start_time": "2021-02-12T18:03:58.941081",
     "status": "completed"
    },
    "tags": []
   },
   "outputs": [
    {
     "data": {
      "text/plain": [
       "launch_year\n",
       "1996    3.903884e+06\n",
       "1997    4.286645e+06\n",
       "1998    4.251905e+06\n",
       "1999    5.246965e+06\n",
       "2000    7.495092e+06\n",
       "2002    4.991022e+06\n",
       "2004    3.482435e+06\n",
       "2005    3.298470e+06\n",
       "2006    3.360841e+06\n",
       "2007    4.317164e+06\n",
       "2008    4.588214e+06\n",
       "2009    4.094408e+06\n",
       "2010    4.383878e+06\n",
       "2011    4.147879e+06\n",
       "2012    3.540404e+06\n",
       "2013    2.532287e+06\n",
       "2014    2.464944e+06\n",
       "Name: revenue, dtype: float64"
      ]
     },
     "execution_count": 20,
     "metadata": {},
     "output_type": "execute_result"
    }
   ],
   "source": [
    "data.groupby('launch_year')['revenue'].mean()"
   ]
  },
  {
   "cell_type": "markdown",
   "metadata": {
    "papermill": {
     "duration": 0.032945,
     "end_time": "2021-02-12T18:03:59.054614",
     "exception": false,
     "start_time": "2021-02-12T18:03:59.021669",
     "status": "completed"
    },
    "tags": []
   },
   "source": [
    "* Year 2000 has recorded highest revenues.\n",
    "* Years 2005, 2013 and 2014 proved to be worst years for restaurants. Though number of observations is too low for year 2014, may be the big picture is differnt from this"
   ]
  },
  {
   "cell_type": "code",
   "execution_count": 21,
   "metadata": {
    "execution": {
     "iopub.execute_input": "2021-02-12T18:03:59.171619Z",
     "iopub.status.busy": "2021-02-12T18:03:59.170028Z",
     "iopub.status.idle": "2021-02-12T18:03:59.344304Z",
     "shell.execute_reply": "2021-02-12T18:03:59.343718Z"
    },
    "papermill": {
     "duration": 0.256974,
     "end_time": "2021-02-12T18:03:59.344433",
     "exception": false,
     "start_time": "2021-02-12T18:03:59.087459",
     "status": "completed"
    },
    "tags": []
   },
   "outputs": [],
   "source": [
    "# creating dummy variables\n",
    "data.launch_year = data.launch_year.astype(str)\n",
    "data.launch_Month = data.launch_Month.astype(str)\n",
    "year_dummy = pd.get_dummies(data[['launch_year','launch_Month']],drop_first=True)\n",
    "dataa = pd.concat([data,year_dummy],axis=1)\n",
    "data.drop(['launch_year','launch_Month'],axis=1, inplace=True)"
   ]
  },
  {
   "cell_type": "markdown",
   "metadata": {
    "papermill": {
     "duration": 0.034128,
     "end_time": "2021-02-12T18:03:59.707579",
     "exception": false,
     "start_time": "2021-02-12T18:03:59.673451",
     "status": "completed"
    },
    "tags": []
   },
   "source": [
    "## Modeling"
   ]
  },
  {
   "cell_type": "markdown",
   "metadata": {
    "papermill": {
     "duration": 0.034662,
     "end_time": "2021-02-12T18:03:59.777706",
     "exception": false,
     "start_time": "2021-02-12T18:03:59.743044",
     "status": "completed"
    },
    "tags": []
   },
   "source": [
    "Split train data further into training and testing sets to see performance of each ML model.\n",
    "Then, apply models."
   ]
  },
  {
   "cell_type": "code",
   "execution_count": 22,
   "metadata": {
    "execution": {
     "iopub.execute_input": "2021-02-12T18:03:59.854196Z",
     "iopub.status.busy": "2021-02-12T18:03:59.853428Z",
     "iopub.status.idle": "2021-02-12T18:03:59.919502Z",
     "shell.execute_reply": "2021-02-12T18:03:59.920111Z"
    },
    "papermill": {
     "duration": 0.107552,
     "end_time": "2021-02-12T18:03:59.920274",
     "exception": false,
     "start_time": "2021-02-12T18:03:59.812722",
     "status": "completed"
    },
    "tags": []
   },
   "outputs": [],
   "source": [
    "from sklearn.model_selection import train_test_split\n",
    "X=data.drop('revenue',axis=1)\n",
    "y=data['revenue']\n",
    "X_train, X_test, y_train, y_test = train_test_split(X,y,test_size=0.2,random_state=12345)"
   ]
  },
  {
   "cell_type": "code",
   "execution_count": 23,
   "metadata": {
    "execution": {
     "iopub.execute_input": "2021-02-12T18:04:00.002192Z",
     "iopub.status.busy": "2021-02-12T18:04:00.001459Z",
     "iopub.status.idle": "2021-02-12T18:04:01.757706Z",
     "shell.execute_reply": "2021-02-12T18:04:01.758458Z"
    },
    "papermill": {
     "duration": 1.802486,
     "end_time": "2021-02-12T18:04:01.758643",
     "exception": false,
     "start_time": "2021-02-12T18:03:59.956157",
     "status": "completed"
    },
    "tags": []
   },
   "outputs": [
    {
     "data": {
      "text/html": [
       "<div>\n",
       "<style scoped>\n",
       "    .dataframe tbody tr th:only-of-type {\n",
       "        vertical-align: middle;\n",
       "    }\n",
       "\n",
       "    .dataframe tbody tr th {\n",
       "        vertical-align: top;\n",
       "    }\n",
       "\n",
       "    .dataframe thead th {\n",
       "        text-align: right;\n",
       "    }\n",
       "</style>\n",
       "<table border=\"1\" class=\"dataframe\">\n",
       "  <thead>\n",
       "    <tr style=\"text-align: right;\">\n",
       "      <th></th>\n",
       "      <th>MAE</th>\n",
       "      <th>MSE</th>\n",
       "      <th>R2-score</th>\n",
       "    </tr>\n",
       "  </thead>\n",
       "  <tbody>\n",
       "    <tr>\n",
       "      <th>Linear Regression</th>\n",
       "      <td>1.657670e+06</td>\n",
       "      <td>3.643539e+12</td>\n",
       "      <td>-0.437851</td>\n",
       "    </tr>\n",
       "    <tr>\n",
       "      <th>Logistic Regression</th>\n",
       "      <td>1.334524e+06</td>\n",
       "      <td>2.589196e+12</td>\n",
       "      <td>-0.021775</td>\n",
       "    </tr>\n",
       "    <tr>\n",
       "      <th>Decision Tree</th>\n",
       "      <td>1.590085e+06</td>\n",
       "      <td>3.817143e+12</td>\n",
       "      <td>-0.506360</td>\n",
       "    </tr>\n",
       "    <tr>\n",
       "      <th>Random Forest</th>\n",
       "      <td>1.017237e+06</td>\n",
       "      <td>1.518339e+12</td>\n",
       "      <td>0.400818</td>\n",
       "    </tr>\n",
       "    <tr>\n",
       "      <th>Support Vector Machines</th>\n",
       "      <td>1.407327e+06</td>\n",
       "      <td>2.555855e+12</td>\n",
       "      <td>-0.008617</td>\n",
       "    </tr>\n",
       "    <tr>\n",
       "      <th>K-nearest Neighbors</th>\n",
       "      <td>1.175955e+06</td>\n",
       "      <td>1.963148e+12</td>\n",
       "      <td>0.225282</td>\n",
       "    </tr>\n",
       "    <tr>\n",
       "      <th>XGBoost</th>\n",
       "      <td>1.140804e+06</td>\n",
       "      <td>1.823674e+12</td>\n",
       "      <td>0.280323</td>\n",
       "    </tr>\n",
       "  </tbody>\n",
       "</table>\n",
       "</div>"
      ],
      "text/plain": [
       "                                  MAE           MSE  R2-score\n",
       "Linear Regression        1.657670e+06  3.643539e+12 -0.437851\n",
       "Logistic Regression      1.334524e+06  2.589196e+12 -0.021775\n",
       "Decision Tree            1.590085e+06  3.817143e+12 -0.506360\n",
       "Random Forest            1.017237e+06  1.518339e+12  0.400818\n",
       "Support Vector Machines  1.407327e+06  2.555855e+12 -0.008617\n",
       "K-nearest Neighbors      1.175955e+06  1.963148e+12  0.225282\n",
       "XGBoost                  1.140804e+06  1.823674e+12  0.280323"
      ]
     },
     "execution_count": 23,
     "metadata": {},
     "output_type": "execute_result"
    }
   ],
   "source": [
    "from sklearn.linear_model import LinearRegression\n",
    "from sklearn.linear_model import LogisticRegression\n",
    "from sklearn.tree import DecisionTreeRegressor\n",
    "from sklearn.ensemble import RandomForestRegressor\n",
    "from sklearn.svm import SVR\n",
    "from sklearn.neighbors import KNeighborsRegressor\n",
    "from xgboost import XGBRegressor\n",
    "from sklearn.metrics import mean_absolute_error,mean_squared_error,r2_score\n",
    "from sklearn.model_selection import cross_val_score\n",
    "\n",
    "regressors = {\n",
    "    'Linear Regression' : LinearRegression(),\n",
    "    'Logistic Regression' : LogisticRegression(),\n",
    "    'Decision Tree' : DecisionTreeRegressor(),\n",
    "    'Random Forest' : RandomForestRegressor(),\n",
    "    'Support Vector Machines' : SVR(),\n",
    "    'K-nearest Neighbors' : KNeighborsRegressor(),\n",
    "    'XGBoost' : XGBRegressor()\n",
    "}\n",
    "results=pd.DataFrame(columns=['MAE','MSE','R2-score'])\n",
    "for method,func in regressors.items():\n",
    "    func.fit(X_train,y_train)\n",
    "    pred = func.predict(X_test)\n",
    "    results.loc[method]= [mean_absolute_error(y_test,pred),\n",
    "                          mean_squared_error(y_test,pred),\n",
    "                          r2_score(y_test,pred)\n",
    "                         ]\n",
    "results"
   ]
  },
  {
   "cell_type": "code",
   "execution_count": 24,
   "metadata": {},
   "outputs": [
    {
     "name": "stdout",
     "output_type": "stream",
     "text": [
      "{'bootstrap': False, 'max_depth': 10, 'max_features': 'log2', 'n_estimators': 9, 'random_state': 0}\n",
      "0.3588916570500771\n"
     ]
    }
   ],
   "source": [
    "from sklearn.model_selection import GridSearchCV\n",
    "\n",
    "param_grid = { \"random_state\": [0,1], 'bootstrap': [True,False], 'max_depth': [10], 'max_features': ['log2'], 'n_estimators': [5, 6, 7, 9, 10]}\n",
    "\n",
    "rfr = RandomForestRegressor()\n",
    "\n",
    "g_search = GridSearchCV(estimator = rfr, param_grid = param_grid, \n",
    "\n",
    "                          cv = 3, n_jobs = 1, verbose = 0, return_train_score=True)\n",
    "g_search.fit(X_train, y_train);\n",
    "\n",
    "print(g_search.best_params_)\n",
    "print(g_search.score(X_test, y_test))"
   ]
  },
  {
   "cell_type": "code",
   "execution_count": 25,
   "metadata": {},
   "outputs": [
    {
     "name": "stdout",
     "output_type": "stream",
     "text": [
      "Accuracy: 0.3588916570500771\n"
     ]
    }
   ],
   "source": [
    "random = RandomForestRegressor(random_state=0, max_depth = 10, max_features = 'log2', n_estimators = 9, bootstrap =False)\n",
    "\n",
    "random.fit(X_train,y_train)\n",
    "\n",
    "y_pred3 = random.predict(X_test) \n",
    "from sklearn import metrics \n",
    "print(\"Accuracy:\",metrics.r2_score(y_test, y_pred3))"
   ]
  },
  {
   "cell_type": "markdown",
   "metadata": {},
   "source": [
    "## The best Parameters for the Random Forest Regressor model is \n",
    "### random_state=0\n",
    "### max_depth = 10\n",
    "### max_features = 'log2'\n",
    "### n_estimators = 9 and\n",
    "### bootstrap =False\n",
    "### which give us the max accuracy of **35.88%**"
   ]
  },
  {
   "cell_type": "code",
   "execution_count": null,
   "metadata": {},
   "outputs": [],
   "source": []
  }
 ],
 "metadata": {
  "kernelspec": {
   "display_name": "Python 3",
   "language": "python",
   "name": "python3"
  },
  "language_info": {
   "codemirror_mode": {
    "name": "ipython",
    "version": 3
   },
   "file_extension": ".py",
   "mimetype": "text/x-python",
   "name": "python",
   "nbconvert_exporter": "python",
   "pygments_lexer": "ipython3",
   "version": "3.8.5"
  },
  "papermill": {
   "duration": 34.040477,
   "end_time": "2021-02-12T18:04:22.509278",
   "environment_variables": {},
   "exception": null,
   "input_path": "__notebook__.ipynb",
   "output_path": "__notebook__.ipynb",
   "parameters": {},
   "start_time": "2021-02-12T18:03:48.468801",
   "version": "2.1.0"
  }
 },
 "nbformat": 4,
 "nbformat_minor": 4
}
